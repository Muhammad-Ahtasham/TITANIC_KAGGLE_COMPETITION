{
 "cells": [
  {
   "cell_type": "code",
   "execution_count": null,
   "id": "a9a8e4be",
   "metadata": {},
   "outputs": [],
   "source": [
    "import numpy as np\n",
    "import pandas as pd"
   ]
  },
  {
   "cell_type": "code",
   "execution_count": null,
   "id": "495bfcc8",
   "metadata": {},
   "outputs": [],
   "source": [
    "train_ds = pd.read_csv(\"train.csv\", na_filter=False)"
   ]
  },
  {
   "cell_type": "code",
   "execution_count": null,
   "id": "8ef6f892",
   "metadata": {},
   "outputs": [],
   "source": [
    "train_ds"
   ]
  },
  {
   "cell_type": "code",
   "execution_count": null,
   "id": "0bde5ee9",
   "metadata": {},
   "outputs": [],
   "source": [
    "train_ds.info"
   ]
  },
  {
   "cell_type": "code",
   "execution_count": null,
   "id": "7839ca44",
   "metadata": {},
   "outputs": [],
   "source": [
    "train_ds.corr()"
   ]
  },
  {
   "cell_type": "code",
   "execution_count": null,
   "id": "90f9712a",
   "metadata": {},
   "outputs": [],
   "source": [
    "train_ds.corrwith(train_ds['Transported']).sort_values(ascending=False).plot(kind='bar', figsize=(10, 8))"
   ]
  },
  {
   "cell_type": "code",
   "execution_count": null,
   "id": "06be7f24",
   "metadata": {},
   "outputs": [],
   "source": [
    "lis = ['PassengerId', 'FoodCourt','Name', 'VIP', 'ShoppingMall']\n",
    "for i in lis:\n",
    "    train_ds = train_ds.drop(columns=i)\n",
    "train_ds"
   ]
  },
  {
   "cell_type": "code",
   "execution_count": null,
   "id": "d20c8551",
   "metadata": {},
   "outputs": [],
   "source": [
    "train_ds.isnull().mean()"
   ]
  },
  {
   "cell_type": "code",
   "execution_count": null,
   "id": "858cfe1b",
   "metadata": {},
   "outputs": [],
   "source": []
  },
  {
   "cell_type": "code",
   "execution_count": null,
   "id": "c8f1e1e6",
   "metadata": {},
   "outputs": [],
   "source": [
    "from sklearn.preprocessing import LabelEncoder"
   ]
  },
  {
   "cell_type": "code",
   "execution_count": null,
   "id": "d934c7f6",
   "metadata": {},
   "outputs": [],
   "source": [
    "le = LabelEncoder()"
   ]
  },
  {
   "cell_type": "code",
   "execution_count": null,
   "id": "bc57c2bc",
   "metadata": {},
   "outputs": [],
   "source": [
    "for i in train_ds.columns:\n",
    "    train_ds[i] = le.fit_transform(train_ds[i])"
   ]
  },
  {
   "cell_type": "code",
   "execution_count": null,
   "id": "a61e1883",
   "metadata": {},
   "outputs": [],
   "source": [
    "train_ds"
   ]
  },
  {
   "cell_type": "code",
   "execution_count": null,
   "id": "bf570f60",
   "metadata": {},
   "outputs": [],
   "source": [
    "features = train_ds.drop(columns='Transported')\n",
    "features"
   ]
  },
  {
   "cell_type": "code",
   "execution_count": null,
   "id": "d52e1a4e",
   "metadata": {},
   "outputs": [],
   "source": [
    "labels = train_ds['Transported']\n",
    "labels"
   ]
  },
  {
   "cell_type": "code",
   "execution_count": null,
   "id": "53b3ad1c",
   "metadata": {},
   "outputs": [],
   "source": [
    "from sklearn.preprocessing import StandardScaler\n",
    "scaler=StandardScaler()\n",
    "scaler.fit(features)\n",
    "std=scaler.transform(features)\n",
    "# train_ds=pd.train_ds(std)"
   ]
  },
  {
   "cell_type": "code",
   "execution_count": null,
   "id": "bdc6c728",
   "metadata": {},
   "outputs": [],
   "source": [
    "from sklearn.model_selection import train_test_split\n",
    "x_train,x_test,y_train,y_test=train_test_split(features,labels,train_size=0.7,random_state=2)"
   ]
  },
  {
   "cell_type": "code",
   "execution_count": null,
   "id": "285b6f2f",
   "metadata": {},
   "outputs": [],
   "source": [
    "from sklearn.linear_model import LogisticRegression"
   ]
  },
  {
   "cell_type": "code",
   "execution_count": null,
   "id": "abe97a56",
   "metadata": {},
   "outputs": [],
   "source": [
    "model = LogisticRegression(random_state =100,C=1.2, penalty='l2')"
   ]
  },
  {
   "cell_type": "code",
   "execution_count": null,
   "id": "bbfca57a",
   "metadata": {},
   "outputs": [],
   "source": [
    "model.fit(x_train, y_train)"
   ]
  },
  {
   "cell_type": "code",
   "execution_count": null,
   "id": "3d9e8042",
   "metadata": {},
   "outputs": [],
   "source": [
    "y_pred=model.predict(x_test)"
   ]
  },
  {
   "cell_type": "code",
   "execution_count": null,
   "id": "0d75b348",
   "metadata": {},
   "outputs": [],
   "source": [
    "from sklearn.metrics import accuracy_score\n",
    "accuracy_score(y_pred,y_test)"
   ]
  },
  {
   "cell_type": "code",
   "execution_count": null,
   "id": "2c01268d",
   "metadata": {},
   "outputs": [],
   "source": [
    "from sklearn.preprocessing import StandardScaler\n",
    "from sklearn.svm import SVC\n",
    "from sklearn.metrics import confusion_matrix\n",
    "from sklearn.metrics import precision_score, recall_score, f1_score, accuracy_score\n",
    "import matplotlib.pyplot as plt\n",
    "\n",
    "\n",
    "conf_matrix = confusion_matrix(y_true=y_test, y_pred=y_pred)\n",
    "#\n",
    "# Print the confusion matrix using Matplotlib\n",
    "#\n",
    "fig, ax = plt.subplots(figsize=(5, 5))\n",
    "ax.matshow(conf_matrix, cmap=plt.cm.Oranges, alpha=0.3)\n",
    "for i in range(conf_matrix.shape[0]):\n",
    "    for j in range(conf_matrix.shape[1]):\n",
    "        ax.text(x=j, y=i,s=conf_matrix[i, j], va='center', ha='center', size='xx-large')\n",
    " \n",
    "plt.xlabel('Predictions', fontsize=18)\n",
    "plt.ylabel('Actuals', fontsize=18)\n",
    "plt.title('Confusion Matrix', fontsize=18)\n",
    "plt.show()"
   ]
  },
  {
   "cell_type": "code",
   "execution_count": null,
   "id": "75bd01a1",
   "metadata": {},
   "outputs": [],
   "source": [
    "from sklearn.svm import SVC\n",
    "svclassifier = SVC(kernel='linear')\n",
    "svclassifier.fit(x_train, y_train)"
   ]
  },
  {
   "cell_type": "code",
   "execution_count": null,
   "id": "066ff7d0",
   "metadata": {},
   "outputs": [],
   "source": [
    "test_ds = pd.read_csv(\"test.csv\")\n",
    "test = pd.read_csv(\"test.csv\")\n",
    "test_ds"
   ]
  },
  {
   "cell_type": "code",
   "execution_count": null,
   "id": "4cfbb59c",
   "metadata": {},
   "outputs": [],
   "source": [
    "lis = ['PassengerId', 'FoodCourt','Name', 'VIP', 'ShoppingMall']\n",
    "for i in lis:\n",
    "    test_ds = test_ds.drop(columns=i)\n",
    "test_ds"
   ]
  },
  {
   "cell_type": "code",
   "execution_count": null,
   "id": "5ba86c49",
   "metadata": {},
   "outputs": [],
   "source": [
    "for i in test_ds.columns:\n",
    "    test_ds[i] = le.fit_transform(test_ds[i])"
   ]
  },
  {
   "cell_type": "code",
   "execution_count": null,
   "id": "327e4064",
   "metadata": {},
   "outputs": [],
   "source": [
    "model.predict(test_ds)"
   ]
  },
  {
   "cell_type": "code",
   "execution_count": null,
   "id": "f4da241e",
   "metadata": {},
   "outputs": [],
   "source": [
    "al=model.predict(test_ds)\n",
    "aal=pd.DataFrame(al)"
   ]
  },
  {
   "cell_type": "code",
   "execution_count": null,
   "id": "5fbe95e1",
   "metadata": {},
   "outputs": [],
   "source": []
  },
  {
   "cell_type": "code",
   "execution_count": null,
   "id": "a39dd75b",
   "metadata": {},
   "outputs": [],
   "source": [
    "af=pd.DataFrame({'PassengerId':test['PassengerId'],'Transported':al.astype('bool')})\n",
    "af"
   ]
  },
  {
   "cell_type": "code",
   "execution_count": null,
   "id": "9376782e",
   "metadata": {},
   "outputs": [],
   "source": [
    "af[af.Transported==1]"
   ]
  },
  {
   "cell_type": "code",
   "execution_count": null,
   "id": "3b8b56e1",
   "metadata": {},
   "outputs": [],
   "source": [
    "af.to_csv('output.csv',index=False)"
   ]
  },
  {
   "cell_type": "code",
   "execution_count": null,
   "id": "cb585e56",
   "metadata": {},
   "outputs": [],
   "source": []
  }
 ],
 "metadata": {
  "kernelspec": {
   "display_name": "Python 3 (ipykernel)",
   "language": "python",
   "name": "python3"
  },
  "language_info": {
   "codemirror_mode": {
    "name": "ipython",
    "version": 3
   },
   "file_extension": ".py",
   "mimetype": "text/x-python",
   "name": "python",
   "nbconvert_exporter": "python",
   "pygments_lexer": "ipython3",
   "version": "3.10.0"
  }
 },
 "nbformat": 4,
 "nbformat_minor": 5
}
